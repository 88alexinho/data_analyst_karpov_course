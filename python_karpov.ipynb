{
 "cells": [
  {
   "cell_type": "markdown",
   "metadata": {},
   "source": [
    "УРОК №1 ВВЕДЕНИЕ В ПИТОН И ИНТЕРФЕЙС JUPYTER-NOTEBOOK"
   ]
  },
  {
   "cell_type": "markdown",
   "metadata": {},
   "source": [
    "Напишите программу, проверяющую стаж работы сотрудника. В переменной worker уже содержится список, содержащий значения как на 3-ем шаге (имя, фамилия, зарплата, стаж)."
   ]
  },
  {
   "cell_type": "code",
   "execution_count": 24,
   "metadata": {},
   "outputs": [
    {
     "name": "stdout",
     "output_type": "stream",
     "text": [
      "Katya Silyutina is middle\n"
     ]
    }
   ],
   "source": [
    "worker = ['Katya', 'Silyutina', 350000, 5]\n",
    "user_name = worker[0]\n",
    "user_family = worker[1]\n",
    "if worker[3]<2:\n",
    "    position = 'junior'\n",
    "elif worker[3]>=2 and worker[3]<=5:\n",
    "    position = 'middle'\n",
    "elif worker[3]>5:\n",
    "    position = 'senior'\n",
    "status = f'{user_name} {user_family} is {position}'\n",
    "print(status)"
   ]
  },
  {
   "cell_type": "markdown",
   "metadata": {},
   "source": [
    "В списке values содержатся числовые значения. Создайте список tens и добавьте в него все числа из values, которые делятся на 10 нацело."
   ]
  },
  {
   "cell_type": "code",
   "execution_count": 25,
   "metadata": {},
   "outputs": [],
   "source": [
    "values = [12, 134, 10, 47, 100, 20, 50, 160, 210]"
   ]
  },
  {
   "cell_type": "code",
   "execution_count": 36,
   "metadata": {},
   "outputs": [
    {
     "name": "stdout",
     "output_type": "stream",
     "text": [
      "[10, 100, 20, 50, 160, 210]\n"
     ]
    }
   ],
   "source": [
    "tens = [i for i in values if i%10 == 0] \n",
    "print(tens)"
   ]
  },
  {
   "cell_type": "markdown",
   "metadata": {},
   "source": [
    "⭐️ Задание со звёздочкой! ⭐️\n",
    "\n",
    "Реализуйте цикл, который пробегается по уже созданному списку workers со значениями как на 3-ем и 7-ом шагах и выводит для каждого сотрудника следующую строку (то есть печатает её для каждого элемента списка):"
   ]
  },
  {
   "cell_type": "code",
   "execution_count": 50,
   "metadata": {},
   "outputs": [
    {
     "name": "stdout",
     "output_type": "stream",
     "text": [
      "Ivan Ivanov is junior\n",
      "Petr Petrov is middle\n",
      "Sidor Sidorov is senior\n"
     ]
    }
   ],
   "source": [
    "workers = [['Ivan', 'Ivanov', 100000, 1], ['Petr', 'Petrov', 150000, 2], ['Sidor', 'Sidorov', 200000, 10]]\n",
    "for i in workers:\n",
    "    user_name = i[0]\n",
    "    user_family = i[1]    \n",
    "    if i[3]<2:\n",
    "        position = 'junior'\n",
    "    elif i[3] and i[3]<=5:\n",
    "        position = 'middle'\n",
    "    elif i[3]>5:\n",
    "        position = 'senior'\n",
    "    print(f'{user_name} {user_family} is {position}')\n"
   ]
  },
  {
   "cell_type": "markdown",
   "metadata": {},
   "source": [
    "⭐️ Задание со звёздочкой! ⭐️\n",
    "\n",
    "Поместите в список lst числа от 0 (n = 0) до 10 включительно (N = 10) c шагом 2 (dn = 2). Для этого используйте условие while."
   ]
  },
  {
   "cell_type": "code",
   "execution_count": 53,
   "metadata": {},
   "outputs": [
    {
     "name": "stdout",
     "output_type": "stream",
     "text": [
      "[0, 2, 4, 6, 8, 10]\n"
     ]
    }
   ],
   "source": [
    "lst = []\n",
    "n = 0 \n",
    "while n <11:\n",
    "    lst.append(n)\n",
    "    n += 2\n",
    "print(lst)"
   ]
  },
  {
   "cell_type": "markdown",
   "metadata": {},
   "source": [
    "На предыдущих шагах вы сталкивались с различными характеристиками пользователей, которые были сохранены в списках. Теперь попробуем собрать нужную информацию в словарь!"
   ]
  },
  {
   "cell_type": "code",
   "execution_count": 54,
   "metadata": {},
   "outputs": [
    {
     "name": "stdout",
     "output_type": "stream",
     "text": [
      "{'name': 'Masha', 'surname': 'Volkova', 'age': 25, 'salary': 60000, 'position': 'junior'}\n"
     ]
    }
   ],
   "source": [
    "salaries_dict = {'name':'Masha','surname':'Volkova','age':25,'salary':60000,'position':'junior'}\n",
    "print(salaries_dict)"
   ]
  },
  {
   "cell_type": "markdown",
   "metadata": {},
   "source": [
    "Теперь усложним задачу. Создайте словарь, где:\n",
    "\n",
    "Ключом будет логин пользователя (login)\n",
    "В качестве значения – словарь с характеристиками (как на предыдущем шаге) для этого пользователя"
   ]
  },
  {
   "cell_type": "code",
   "execution_count": 59,
   "metadata": {},
   "outputs": [
    {
     "name": "stdout",
     "output_type": "stream",
     "text": [
      "{'mvolkova': {'name': 'Masha', 'surname': 'Volkova', 'age': 25, 'salary': 60000, 'position': 'junior'}, 'pvoronov': {'name': 'Peter', 'surname': 'Voronov', 'age': 27, 'salary': 100000, 'position': 'junior'}, 'pparker': {'name': 'Peter', 'surname': 'Parker', 'age': 35, 'salary': 150000, 'position': 'middle'}, 'akarpov': {'name': 'Anatoly', 'surname': 'Karpov', 'age': 30, 'salary': 250000, 'position': 'senior'}}\n"
     ]
    }
   ],
   "source": [
    "users_dict = {\n",
    "    'mvolkova': {'name':'Masha','surname':'Volkova','age':25,'salary': 60000, 'position':'junior'},\n",
    "    'pvoronov': {'name':'Peter','surname':'Voronov','age':27,'salary': 100000, 'position':'junior'},\n",
    "    'pparker': {'name':'Peter','surname':'Parker','age':35,'salary': 150000, 'position':'middle'},\n",
    "    'akarpov': {'name':'Anatoly','surname':'Karpov','age':30,'salary': 250000, 'position':'senior'}\n",
    "              }\n",
    "print(users_dict)\n"
   ]
  },
  {
   "cell_type": "markdown",
   "metadata": {},
   "source": [
    "УРОК №2 ЗНАКОМСТВО С PANDAS"
   ]
  },
  {
   "cell_type": "code",
   "execution_count": null,
   "metadata": {},
   "outputs": [],
   "source": []
  },
  {
   "cell_type": "code",
   "execution_count": null,
   "metadata": {},
   "outputs": [],
   "source": []
  }
 ],
 "metadata": {
  "kernelspec": {
   "display_name": "KARPOV_ENV",
   "language": "python",
   "name": "python3"
  },
  "language_info": {
   "codemirror_mode": {
    "name": "ipython",
    "version": 3
   },
   "file_extension": ".py",
   "mimetype": "text/x-python",
   "name": "python",
   "nbconvert_exporter": "python",
   "pygments_lexer": "ipython3",
   "version": "3.12.3"
  }
 },
 "nbformat": 4,
 "nbformat_minor": 2
}
